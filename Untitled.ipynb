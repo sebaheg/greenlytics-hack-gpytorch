{
 "cells": [
  {
   "cell_type": "code",
   "execution_count": 198,
   "metadata": {},
   "outputs": [],
   "source": [
    "import pandas as pd\n",
    "import math\n",
    "import torch\n",
    "import gpytorch\n",
    "import numpy as np\n",
    "import datetime as dt\n",
    "import matplotlib.pyplot as plt\n",
    "%matplotlib inline  "
   ]
  },
  {
   "cell_type": "code",
   "execution_count": 199,
   "metadata": {},
   "outputs": [],
   "source": [
    "df_solar_power = pd.read_csv('./data/solar/solar_power_train.csv',\n",
    "                             header=0,\n",
    "                             index_col=0,\n",
    "                             parse_dates=True)\n",
    "\n",
    "df_solar_meteo = pd.read_csv('./data/solar/solar_meteo_train.csv',\n",
    "                             header=[0, 1],\n",
    "                             skiprows=[2],\n",
    "                             index_col=0,\n",
    "                             parse_dates=True)"
   ]
  },
  {
   "cell_type": "code",
   "execution_count": 197,
   "metadata": {},
   "outputs": [
    {
     "data": {
      "text/plain": [
       "1"
      ]
     },
     "execution_count": 197,
     "metadata": {},
     "output_type": "execute_result"
    }
   ],
   "source": [
    "np.repeat(range(1,24), 31, axis=None)"
   ]
  },
  {
   "cell_type": "code",
   "execution_count": 193,
   "metadata": {},
   "outputs": [],
   "source": [
    "x_train = df_solar_meteo['2013-11-30 01:00:00':'2013-12-31 00:00:00']['1']['VAR134'].values\n",
    "y_train = df_solar_power['2013-11-30 01:00:00':'2013-12-31 00:00:00']['1'].values"
   ]
  },
  {
   "cell_type": "code",
   "execution_count": 194,
   "metadata": {},
   "outputs": [
    {
     "data": {
      "text/plain": [
       "31.0"
      ]
     },
     "execution_count": 194,
     "metadata": {},
     "output_type": "execute_result"
    }
   ],
   "source": [
    "y_train.shape[0]/24"
   ]
  },
  {
   "cell_type": "code",
   "execution_count": 177,
   "metadata": {},
   "outputs": [],
   "source": [
    "x_train = torch.from_numpy(x_train)\n",
    "y_train = torch.from_numpy(y_train)"
   ]
  },
  {
   "cell_type": "code",
   "execution_count": 178,
   "metadata": {},
   "outputs": [
    {
     "data": {
      "text/plain": [
       "torch.Size([745])"
      ]
     },
     "execution_count": 178,
     "metadata": {},
     "output_type": "execute_result"
    }
   ],
   "source": [
    "x_train.shape"
   ]
  },
  {
   "cell_type": "code",
   "execution_count": 179,
   "metadata": {},
   "outputs": [],
   "source": [
    "# We will use the simplest form of GP model, exact inference\n",
    "class ExactGPModel(gpytorch.models.ExactGP):\n",
    "    def __init__(self, train_x, train_y, likelihood):\n",
    "        super(ExactGPModel, self).__init__(train_x, train_y, likelihood)\n",
    "        self.mean_module = gpytorch.means.ConstantMean()\n",
    "        self.covar_module = gpytorch.kernels.ScaleKernel(gpytorch.kernels.RBFKernel())\n",
    "    \n",
    "    def forward(self, x):\n",
    "        mean_x = self.mean_module(x)\n",
    "        covar_x = self.covar_module(x)\n",
    "        return gpytorch.distributions.MultivariateNormal(mean_x, covar_x)\n",
    "\n",
    "# initialize likelihood and model\n",
    "likelihood = gpytorch.likelihoods.GaussianLikelihood()\n",
    "model = ExactGPModel(x_train, y_train, likelihood).double()"
   ]
  },
  {
   "cell_type": "code",
   "execution_count": 180,
   "metadata": {},
   "outputs": [
    {
     "name": "stdout",
     "output_type": "stream",
     "text": [
      "Iter 1/50 - Loss: 1.098   log_lengthscale: -0.367   log_noise: -0.367\n",
      "Iter 2/50 - Loss: 1.054   log_lengthscale: -0.295   log_noise: -0.439\n",
      "Iter 3/50 - Loss: 1.011   log_lengthscale: -0.225   log_noise: -0.514\n",
      "Iter 4/50 - Loss: 0.976   log_lengthscale: -0.158   log_noise: -0.590\n",
      "Iter 5/50 - Loss: 0.945   log_lengthscale: -0.091   log_noise: -0.668\n",
      "Iter 6/50 - Loss: 0.898   log_lengthscale: -0.027   log_noise: -0.747\n",
      "Iter 7/50 - Loss: 0.869   log_lengthscale: 0.036   log_noise: -0.828\n",
      "Iter 8/50 - Loss: 0.826   log_lengthscale: 0.098   log_noise: -0.910\n",
      "Iter 9/50 - Loss: 0.784   log_lengthscale: 0.157   log_noise: -0.994\n",
      "Iter 10/50 - Loss: 0.747   log_lengthscale: 0.215   log_noise: -1.079\n",
      "Iter 11/50 - Loss: 0.714   log_lengthscale: 0.271   log_noise: -1.165\n",
      "Iter 12/50 - Loss: 0.669   log_lengthscale: 0.326   log_noise: -1.253\n",
      "Iter 13/50 - Loss: 0.637   log_lengthscale: 0.378   log_noise: -1.341\n",
      "Iter 14/50 - Loss: 0.599   log_lengthscale: 0.429   log_noise: -1.431\n",
      "Iter 15/50 - Loss: 0.551   log_lengthscale: 0.478   log_noise: -1.521\n",
      "Iter 16/50 - Loss: 0.525   log_lengthscale: 0.526   log_noise: -1.612\n",
      "Iter 17/50 - Loss: 0.490   log_lengthscale: 0.572   log_noise: -1.704\n",
      "Iter 18/50 - Loss: 0.455   log_lengthscale: 0.615   log_noise: -1.796\n",
      "Iter 19/50 - Loss: 0.431   log_lengthscale: 0.657   log_noise: -1.888\n",
      "Iter 20/50 - Loss: 0.391   log_lengthscale: 0.696   log_noise: -1.980\n",
      "Iter 21/50 - Loss: 0.369   log_lengthscale: 0.734   log_noise: -2.072\n",
      "Iter 22/50 - Loss: 0.336   log_lengthscale: 0.770   log_noise: -2.162\n",
      "Iter 23/50 - Loss: 0.322   log_lengthscale: 0.804   log_noise: -2.251\n",
      "Iter 24/50 - Loss: 0.294   log_lengthscale: 0.835   log_noise: -2.339\n",
      "Iter 25/50 - Loss: 0.283   log_lengthscale: 0.864   log_noise: -2.424\n",
      "Iter 26/50 - Loss: 0.257   log_lengthscale: 0.891   log_noise: -2.506\n",
      "Iter 27/50 - Loss: 0.259   log_lengthscale: 0.915   log_noise: -2.584\n",
      "Iter 28/50 - Loss: 0.243   log_lengthscale: 0.936   log_noise: -2.658\n",
      "Iter 29/50 - Loss: 0.234   log_lengthscale: 0.955   log_noise: -2.726\n",
      "Iter 30/50 - Loss: 0.233   log_lengthscale: 0.971   log_noise: -2.788\n",
      "Iter 31/50 - Loss: 0.223   log_lengthscale: 0.984   log_noise: -2.842\n",
      "Iter 32/50 - Loss: 0.222   log_lengthscale: 0.994   log_noise: -2.889\n",
      "Iter 33/50 - Loss: 0.232   log_lengthscale: 1.000   log_noise: -2.927\n",
      "Iter 34/50 - Loss: 0.218   log_lengthscale: 1.004   log_noise: -2.956\n",
      "Iter 35/50 - Loss: 0.223   log_lengthscale: 1.005   log_noise: -2.976\n",
      "Iter 36/50 - Loss: 0.223   log_lengthscale: 1.003   log_noise: -2.987\n",
      "Iter 37/50 - Loss: 0.216   log_lengthscale: 0.999   log_noise: -2.989\n",
      "Iter 38/50 - Loss: 0.217   log_lengthscale: 0.992   log_noise: -2.983\n",
      "Iter 39/50 - Loss: 0.211   log_lengthscale: 0.983   log_noise: -2.970\n",
      "Iter 40/50 - Loss: 0.208   log_lengthscale: 0.973   log_noise: -2.950\n",
      "Iter 41/50 - Loss: 0.204   log_lengthscale: 0.962   log_noise: -2.925\n",
      "Iter 42/50 - Loss: 0.195   log_lengthscale: 0.950   log_noise: -2.895\n",
      "Iter 43/50 - Loss: 0.186   log_lengthscale: 0.936   log_noise: -2.863\n",
      "Iter 44/50 - Loss: 0.187   log_lengthscale: 0.922   log_noise: -2.828\n",
      "Iter 45/50 - Loss: 0.184   log_lengthscale: 0.908   log_noise: -2.793\n",
      "Iter 46/50 - Loss: 0.178   log_lengthscale: 0.893   log_noise: -2.757\n",
      "Iter 47/50 - Loss: 0.172   log_lengthscale: 0.878   log_noise: -2.722\n",
      "Iter 48/50 - Loss: 0.176   log_lengthscale: 0.863   log_noise: -2.688\n",
      "Iter 49/50 - Loss: 0.174   log_lengthscale: 0.848   log_noise: -2.657\n",
      "Iter 50/50 - Loss: 0.172   log_lengthscale: 0.833   log_noise: -2.628\n"
     ]
    }
   ],
   "source": [
    "# Find optimal model hyperparameters\n",
    "model.train()\n",
    "likelihood.train()\n",
    "\n",
    "# Use the adam optimizer\n",
    "optimizer = torch.optim.Adam([\n",
    "    {'params': model.parameters()},  # Includes GaussianLikelihood parameters\n",
    "], lr=0.1)\n",
    "\n",
    "# \"Loss\" for GPs - the marginal log likelihood\n",
    "mll = gpytorch.mlls.ExactMarginalLogLikelihood(likelihood, model)\n",
    "\n",
    "training_iter = 50\n",
    "for i in range(training_iter):\n",
    "    # Zero gradients from previous iteration\n",
    "    optimizer.zero_grad()\n",
    "    # Output from model\n",
    "    output = model(x_train)\n",
    "    # Calc loss and backprop gradients\n",
    "    loss = -mll(output, y_train)\n",
    "    loss.backward()\n",
    "    print('Iter %d/%d - Loss: %.3f   log_lengthscale: %.3f   log_noise: %.3f' % (\n",
    "        i + 1, training_iter, loss.item(),\n",
    "        model.covar_module.base_kernel.log_lengthscale.item(),\n",
    "        model.likelihood.log_noise.item()\n",
    "    ))\n",
    "    optimizer.step()"
   ]
  },
  {
   "cell_type": "code",
   "execution_count": 183,
   "metadata": {},
   "outputs": [],
   "source": [
    "# Get into evaluation (predictive posterior) mode\n",
    "model.eval()\n",
    "likelihood.eval()\n",
    "\n",
    "# Test points are regularly spaced along [0,1]\n",
    "# Make predictions by feeding model through likelihood\n",
    "with torch.no_grad(), gpytorch.settings.fast_pred_var():\n",
    "    observed_pred = likelihood(model(x_train))"
   ]
  },
  {
   "cell_type": "code",
   "execution_count": 182,
   "metadata": {},
   "outputs": [
    {
     "data": {
      "image/png": "[encoded data removed]",
      "text/plain": [
       "<Figure size 288x216 with 1 Axes>"
      ]
     },
     "metadata": {
      "needs_background": "light"
     },
     "output_type": "display_data"
    }
   ],
   "source": [
    "with torch.no_grad():\n",
    "    # Initialize plot\n",
    "    f, ax = plt.subplots(1, 1, figsize=(4, 3))\n",
    "\n",
    "    # Get upper and lower confidence bounds\n",
    "    lower, upper = observed_pred.confidence_region()\n",
    "    # Plot training data as black stars\n",
    "    ax.plot(x_train.numpy(), y_train.numpy(), 'k*')\n",
    "    # Plot predictive means as blue line\n",
    "    ax.plot(x_train.numpy(), observed_pred.mean.numpy(), 'b')\n",
    "    # Shade between the lower and upper confidence bounds\n",
    "   # ax.fill_between(x_test.numpy(), lower.numpy(), upper.numpy(), alpha=0.5)\n",
    "    ax.set_ylim([-3, 3])\n",
    "    ax.legend(['Observed Data', 'Mean', 'Confidence'])"
   ]
  },
  {
   "cell_type": "code",
   "execution_count": 188,
   "metadata": {},
   "outputs": [
    {
     "data": {
      "text/plain": [
       "[<matplotlib.lines.Line2D at 0x12c7c7748>]"
      ]
     },
     "execution_count": 188,
     "metadata": {},
     "output_type": "execute_result"
    },
    {
     "data": {
      "image/png": "[encoded data removed]",
      "text/plain": [
       "<Figure size 432x288 with 1 Axes>"
      ]
     },
     "metadata": {
      "needs_background": "light"
     },
     "output_type": "display_data"
    }
   ],
   "source": [
    "plt.plot(x_train.numpy(), y_train.numpy(), 'k*')\n"
   ]
  },
  {
   "cell_type": "code",
   "execution_count": null,
   "metadata": {},
   "outputs": [],
   "source": []
  }
 ],
 "metadata": {
  "kernelspec": {
   "display_name": "Python [conda env:greenlytics-hack-gpytorch]",
   "language": "python",
   "name": "conda-env-greenlytics-hack-gpytorch-py"
  },
  "language_info": {
   "codemirror_mode": {
    "name": "ipython",
    "version": 3
   },
   "file_extension": ".py",
   "mimetype": "text/x-python",
   "name": "python",
   "nbconvert_exporter": "python",
   "pygments_lexer": "ipython3",
   "version": "3.7.2"
  }
 },
 "nbformat": 4,
 "nbformat_minor": 2
}
